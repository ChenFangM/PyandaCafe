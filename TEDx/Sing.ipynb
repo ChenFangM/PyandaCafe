{
 "cells": [
  {
   "cell_type": "code",
   "execution_count": null,
   "id": "3d629d5f",
   "metadata": {},
   "outputs": [],
   "source": [
    "import pandas as pd\n",
    "import numpy as np"
   ]
  },
  {
   "cell_type": "code",
   "execution_count": null,
   "id": "9362f384",
   "metadata": {},
   "outputs": [],
   "source": [
    "sing = pd.read_excel(\"SING.xlsx\")"
   ]
  },
  {
   "cell_type": "code",
   "execution_count": null,
   "id": "72fb6e0d",
   "metadata": {
    "scrolled": false
   },
   "outputs": [],
   "source": [
    "sing"
   ]
  },
  {
   "cell_type": "code",
   "execution_count": null,
   "id": "8748bc87",
   "metadata": {},
   "outputs": [],
   "source": [
    "sing = sing.set_index('Criteria')"
   ]
  },
  {
   "cell_type": "code",
   "execution_count": null,
   "id": "ea37c4f3",
   "metadata": {},
   "outputs": [],
   "source": [
    "sing"
   ]
  },
  {
   "cell_type": "code",
   "execution_count": null,
   "id": "7c456037",
   "metadata": {},
   "outputs": [],
   "source": [
    "total = sing.sum(0,numeric_only=True)"
   ]
  },
  {
   "cell_type": "code",
   "execution_count": null,
   "id": "9a7c6938",
   "metadata": {
    "scrolled": true
   },
   "outputs": [],
   "source": [
    "total"
   ]
  },
  {
   "cell_type": "code",
   "execution_count": null,
   "id": "5017e97d",
   "metadata": {},
   "outputs": [],
   "source": [
    "sing.loc[\"Total\"] = total"
   ]
  },
  {
   "cell_type": "code",
   "execution_count": null,
   "id": "7afacf6f",
   "metadata": {},
   "outputs": [],
   "source": [
    "sing"
   ]
  },
  {
   "cell_type": "code",
   "execution_count": null,
   "id": "872a21de",
   "metadata": {},
   "outputs": [],
   "source": [
    "sing.head(9).plot.bar(title=\"SING! 2023\")"
   ]
  },
  {
   "cell_type": "code",
   "execution_count": null,
   "id": "7fdf20db",
   "metadata": {},
   "outputs": [],
   "source": [
    "sing.head(9).plot.line(rot=90, title=\"SING! 2023\")"
   ]
  },
  {
   "cell_type": "code",
   "execution_count": null,
   "id": "75bf8d49",
   "metadata": {},
   "outputs": [],
   "source": [
    "sing.head(9).describe()"
   ]
  }
 ],
 "metadata": {
  "kernelspec": {
   "display_name": "Python 3 (ipykernel)",
   "language": "python",
   "name": "python3"
  },
  "language_info": {
   "codemirror_mode": {
    "name": "ipython",
    "version": 3
   },
   "file_extension": ".py",
   "mimetype": "text/x-python",
   "name": "python",
   "nbconvert_exporter": "python",
   "pygments_lexer": "ipython3",
   "version": "3.10.10"
  }
 },
 "nbformat": 4,
 "nbformat_minor": 5
}
