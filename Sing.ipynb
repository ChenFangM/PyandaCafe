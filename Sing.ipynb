{
 "cells": [
  {
   "cell_type": "code",
   "execution_count": 1,
   "id": "3d629d5f",
   "metadata": {},
   "outputs": [],
   "source": [
    "import pandas as pd\n",
    "import numpy as np\n",
    "import matplotlib.pyplot as plt"
   ]
  },
  {
   "cell_type": "code",
   "execution_count": 2,
   "id": "9362f384",
   "metadata": {},
   "outputs": [],
   "source": [
    "sing = pd.read_excel(\"SING.xlsx\")"
   ]
  },
  {
   "cell_type": "code",
   "execution_count": 3,
   "id": "72fb6e0d",
   "metadata": {
    "scrolled": false
   },
   "outputs": [
    {
     "data": {
      "text/html": [
       "<div>\n",
       "<style scoped>\n",
       "    .dataframe tbody tr th:only-of-type {\n",
       "        vertical-align: middle;\n",
       "    }\n",
       "\n",
       "    .dataframe tbody tr th {\n",
       "        vertical-align: top;\n",
       "    }\n",
       "\n",
       "    .dataframe thead th {\n",
       "        text-align: right;\n",
       "    }\n",
       "</style>\n",
       "<table border=\"1\" class=\"dataframe\">\n",
       "  <thead>\n",
       "    <tr style=\"text-align: right;\">\n",
       "      <th></th>\n",
       "      <th>Category</th>\n",
       "      <th>Sophfrosh</th>\n",
       "      <th>Juniors</th>\n",
       "      <th>Seniors</th>\n",
       "    </tr>\n",
       "  </thead>\n",
       "  <tbody>\n",
       "    <tr>\n",
       "      <th>0</th>\n",
       "      <td>Overall Impression (x2)</td>\n",
       "      <td>360</td>\n",
       "      <td>302</td>\n",
       "      <td>320</td>\n",
       "    </tr>\n",
       "    <tr>\n",
       "      <th>1</th>\n",
       "      <td>Script</td>\n",
       "      <td>167</td>\n",
       "      <td>135</td>\n",
       "      <td>135</td>\n",
       "    </tr>\n",
       "    <tr>\n",
       "      <th>2</th>\n",
       "      <td>Acting</td>\n",
       "      <td>170</td>\n",
       "      <td>140</td>\n",
       "      <td>161</td>\n",
       "    </tr>\n",
       "    <tr>\n",
       "      <th>3</th>\n",
       "      <td>Dance</td>\n",
       "      <td>158</td>\n",
       "      <td>160</td>\n",
       "      <td>179</td>\n",
       "    </tr>\n",
       "    <tr>\n",
       "      <th>4</th>\n",
       "      <td>Band/Orchestra</td>\n",
       "      <td>160</td>\n",
       "      <td>155</td>\n",
       "      <td>182</td>\n",
       "    </tr>\n",
       "    <tr>\n",
       "      <th>5</th>\n",
       "      <td>Vocal/Musical Elements</td>\n",
       "      <td>167</td>\n",
       "      <td>170</td>\n",
       "      <td>176</td>\n",
       "    </tr>\n",
       "    <tr>\n",
       "      <th>6</th>\n",
       "      <td>Sets</td>\n",
       "      <td>178</td>\n",
       "      <td>176</td>\n",
       "      <td>153</td>\n",
       "    </tr>\n",
       "    <tr>\n",
       "      <th>7</th>\n",
       "      <td>Technical Aspects</td>\n",
       "      <td>152</td>\n",
       "      <td>137</td>\n",
       "      <td>142</td>\n",
       "    </tr>\n",
       "    <tr>\n",
       "      <th>8</th>\n",
       "      <td>Costumes</td>\n",
       "      <td>174</td>\n",
       "      <td>141</td>\n",
       "      <td>166</td>\n",
       "    </tr>\n",
       "    <tr>\n",
       "      <th>9</th>\n",
       "      <td>Deductions</td>\n",
       "      <td>-35</td>\n",
       "      <td>-43</td>\n",
       "      <td>-106</td>\n",
       "    </tr>\n",
       "  </tbody>\n",
       "</table>\n",
       "</div>"
      ],
      "text/plain": [
       "                  Category  Sophfrosh  Juniors  Seniors\n",
       "0  Overall Impression (x2)        360      302      320\n",
       "1                   Script        167      135      135\n",
       "2                   Acting        170      140      161\n",
       "3                    Dance        158      160      179\n",
       "4           Band/Orchestra        160      155      182\n",
       "5   Vocal/Musical Elements        167      170      176\n",
       "6                     Sets        178      176      153\n",
       "7        Technical Aspects        152      137      142\n",
       "8                 Costumes        174      141      166\n",
       "9               Deductions        -35      -43     -106"
      ]
     },
     "execution_count": 3,
     "metadata": {},
     "output_type": "execute_result"
    }
   ],
   "source": [
    "sing"
   ]
  },
  {
   "cell_type": "code",
   "execution_count": 4,
   "id": "7c456037",
   "metadata": {},
   "outputs": [
    {
     "data": {
      "text/plain": [
       "<bound method NDFrame._add_numeric_operations.<locals>.sum of    Sophfrosh  Juniors\n",
       "0        360      302\n",
       "1        167      135\n",
       "2        170      140\n",
       "3        158      160\n",
       "4        160      155\n",
       "5        167      170\n",
       "6        178      176\n",
       "7        152      137\n",
       "8        174      141\n",
       "9        -35      -43>"
      ]
     },
     "execution_count": 4,
     "metadata": {},
     "output_type": "execute_result"
    }
   ],
   "source": [
    "sing.sum(0,)"
   ]
  },
  {
   "cell_type": "code",
   "execution_count": null,
   "id": "9a7c6938",
   "metadata": {},
   "outputs": [],
   "source": []
  }
 ],
 "metadata": {
  "kernelspec": {
   "display_name": "Python 3 (ipykernel)",
   "language": "python",
   "name": "python3"
  },
  "language_info": {
   "codemirror_mode": {
    "name": "ipython",
    "version": 3
   },
   "file_extension": ".py",
   "mimetype": "text/x-python",
   "name": "python",
   "nbconvert_exporter": "python",
   "pygments_lexer": "ipython3",
   "version": "3.10.10"
  }
 },
 "nbformat": 4,
 "nbformat_minor": 5
}
